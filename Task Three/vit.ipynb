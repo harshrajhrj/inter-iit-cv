{
  "cells": [
    {
      "cell_type": "markdown",
      "id": "059f7d8d",
      "metadata": {
        "id": "059f7d8d"
      },
      "source": [
        "# Vision Transformer\n",
        "Step-by-step explanation of Vision Transformer Architecture\n",
        "1. Image to patches\n",
        "2. Patch EMbedding\n",
        "3. Add positional Embeddings\n",
        "4. Add [CLS] token\n",
        "5. Transformer Encoder Layers\n",
        "6. Classification Head"
      ]
    },
    {
      "cell_type": "markdown",
      "id": "f6dee1a7",
      "metadata": {
        "id": "f6dee1a7"
      },
      "source": [
        "##### 1. Image to Patches\n",
        "Segment image into patches/grids (fixed-size like 4x4 or 16x16). Because this process is equivalent to the process of tokenization in NLP models (segement a sequence of text into tokens)."
      ]
    },
    {
      "cell_type": "markdown",
      "id": "2aa0129f",
      "metadata": {
        "id": "2aa0129f"
      },
      "source": [
        "##### 2. Patch Embedding\n",
        "Flatten the patches into 1D vector (because transformer deals with 1D data)"
      ]
    },
    {
      "cell_type": "markdown",
      "id": "6d2f8a49",
      "metadata": {
        "id": "6d2f8a49"
      },
      "source": [
        "##### 3. Add positional Embeddings\n",
        "We pass the vectors to the embedding layer to map these vectors/patches into high dimension dense vectors and then we add positional embeddings to preserve the order of the patches in order to encode positional information."
      ]
    },
    {
      "cell_type": "markdown",
      "id": "4b29f99a",
      "metadata": {
        "id": "4b29f99a"
      },
      "source": [
        "##### 4. Add [CLS] Token\n",
        "CLS Token is a special learnable token or vector that represents the whole image and this CLS Token will be used for classification. The output of this CLS token will be used later on for classification. [Patch token + Patch Embedding]. Special token to summarize image."
      ]
    },
    {
      "cell_type": "markdown",
      "id": "af5301e6",
      "metadata": {
        "id": "af5301e6"
      },
      "source": [
        "##### 5. Transformer Encoder Layers\n",
        "Consist of numerous blocks. Pass the output of [Patch token + Patch embedding] to the encoder layer."
      ]
    },
    {
      "cell_type": "markdown",
      "id": "4b95860b",
      "metadata": {
        "id": "4b95860b"
      },
      "source": [
        "##### 6. Classification Head\n",
        "Pass the output of transformer to the classification head to classify it into predefined classes. For example....CIFAR 10 (trained) will result output in either of 10 classes (one probability value of each class and highest probability is chosen using the arg max function to choose the predicted class)."
      ]
    },
    {
      "cell_type": "markdown",
      "id": "aaaf35da",
      "metadata": {
        "id": "aaaf35da"
      },
      "source": [
        "#### Comparative Study\n",
        "| NLP Transformer | Vision Transformer (VIT) | Explanation |\n",
        "| --- | --- | --- |\n",
        "| Tokens | Patches | Words/subwords in text -> Image split into small fixed-size patches |\n",
        "| Token IDs| Patch Indices | Each patch can be indexed like tokens |\n",
        "| Token Embedding | Patch Embedding | Converts token/patch index into dense vectors via learned projection |\n",
        "| Positional Embedding | Positional Embedding | Adds location information for sequence order/spatial structure |\n",
        "| [CLS] Token | [CLS] Token | Special token to summarize sequence/image -> used for classification |\n",
        "| Encoder Input Sequence | Embedded Patch Sequence | Input to Transformer: tokens + positional encoding OR patches + positional info |\n",
        "| Transformer Encoder Layers | Transformer Encoder Layers | Identical architecture for modeling dependencies |\n",
        "| Output Token Representation | [CLS] Token Representation | Used to generate final prediction (e.g., class label) |\n",
        "| Softmax Layer | Classification Head (MLP + Softmax) | Converts final output to class probabilites |"
      ]
    },
    {
      "cell_type": "markdown",
      "id": "0f6f8472",
      "metadata": {
        "id": "0f6f8472"
      },
      "source": [
        "Step-by-Step ViT Pipeline Image to Patches\n",
        "- The input imgae (e.g., 224x224x3) is divided into fixed-size patches (e.g., 16x16)\n",
        "- This converts the image into a sequence of small flattened grids.\n",
        "- Patch Embedding\n",
        "- Each patch is flattened into a vector and passed through a **linear projection layer** to embed it into a fixed-length vector (like word embeddings in NLP).\n",
        "    - IN VIT, the embedding layer used is a linear layer and not as embedding layer as in NLP.\n",
        "- Add Positional Embeddings\n",
        "- Since Transformers have no built-in sense of order, positional embeddings are added to each patch embedding to presever spatial information.\n",
        "- Add [CLS] Token\n",
        "- A special learnable token [CLS] is prepended to the sequence. Its output after the Transformer will represent the whole image (used for classification).\n",
        "- Transformer Encoder Layers\n",
        "- The sequence (patch embeddings + CLS + positional encoding) is fed into standard Transformer encoder layers:\n",
        "- Multi-Head Self-Attention\n",
        "- Add & Norm\n",
        "- Feed Forward Network\n",
        "- Add & Norm\n",
        "- CLassification Head\n",
        "- The final hidden state of the [CLS] token is passed through a classification layer (typically an MLP) to produce the predicted image class."
      ]
    },
    {
      "cell_type": "markdown",
      "id": "97781cd1",
      "metadata": {
        "id": "97781cd1"
      },
      "source": [
        "### Implementation"
      ]
    },
    {
      "cell_type": "markdown",
      "id": "3db994f9",
      "metadata": {
        "id": "3db994f9"
      },
      "source": [
        "##### Import required libraries"
      ]
    },
    {
      "cell_type": "code",
      "execution_count": 1,
      "id": "969bb76e",
      "metadata": {
        "id": "969bb76e"
      },
      "outputs": [],
      "source": [
        "import torch\n",
        "import torch.nn as nn\n",
        "import torch.nn.functional as F\n",
        "import torch.optim as optim\n",
        "import torchvision\n",
        "from torch.utils.data import DataLoader\n",
        "from torchvision import datasets, transforms\n",
        "import numpy as np\n",
        "import random # generate random indexes to visualize some images randomly\n",
        "import matplotlib.pyplot as plt"
      ]
    },
    {
      "cell_type": "code",
      "execution_count": 2,
      "id": "b3d4c583",
      "metadata": {
        "colab": {
          "base_uri": "https://localhost:8080/",
          "height": 35
        },
        "id": "b3d4c583",
        "outputId": "35eaca5c-dee5-4bf8-fead-220b931bfab8"
      },
      "outputs": [
        {
          "data": {
            "text/plain": [
              "'2.7.1+cu126'"
            ]
          },
          "execution_count": 2,
          "metadata": {},
          "output_type": "execute_result"
        }
      ],
      "source": [
        "torch.__version__"
      ]
    },
    {
      "cell_type": "code",
      "execution_count": 28,
      "id": "040c4d68",
      "metadata": {
        "colab": {
          "base_uri": "https://localhost:8080/",
          "height": 35
        },
        "id": "040c4d68",
        "outputId": "48831deb-b476-4288-cdc8-29d945258f74"
      },
      "outputs": [
        {
          "data": {
            "application/vnd.google.colaboratory.intrinsic+json": {
              "type": "string"
            },
            "text/plain": [
              "'0.21.0+cu124'"
            ]
          },
          "execution_count": 28,
          "metadata": {},
          "output_type": "execute_result"
        }
      ],
      "source": [
        "torchvision.__version__"
      ]
    },
    {
      "cell_type": "markdown",
      "id": "9ee32a06",
      "metadata": {
        "id": "9ee32a06"
      },
      "source": [
        "##### Setup Device-Agnostic Code"
      ]
    },
    {
      "cell_type": "code",
      "execution_count": 29,
      "id": "035c7452",
      "metadata": {
        "colab": {
          "base_uri": "https://localhost:8080/",
          "height": 35
        },
        "id": "035c7452",
        "outputId": "87415442-2c0a-49d5-b473-b54f598bf7ac"
      },
      "outputs": [
        {
          "data": {
            "application/vnd.google.colaboratory.intrinsic+json": {
              "type": "string"
            },
            "text/plain": [
              "'cuda'"
            ]
          },
          "execution_count": 29,
          "metadata": {},
          "output_type": "execute_result"
        }
      ],
      "source": [
        "device = \"cuda\" if torch.cuda.is_available() else \"cpu\"\n",
        "device"
      ]
    },
    {
      "cell_type": "code",
      "execution_count": 30,
      "id": "ff3b61a2",
      "metadata": {
        "colab": {
          "base_uri": "https://localhost:8080/"
        },
        "id": "ff3b61a2",
        "outputId": "1b43ef69-cb3d-4033-cb8a-e540a3914fb0"
      },
      "outputs": [
        {
          "name": "stdout",
          "output_type": "stream",
          "text": [
            "Using Device: cuda\n"
          ]
        }
      ],
      "source": [
        "print(f\"Using Device: {device}\")"
      ]
    },
    {
      "cell_type": "markdown",
      "id": "974034d9",
      "metadata": {
        "id": "974034d9"
      },
      "source": [
        "##### Set the seed"
      ]
    },
    {
      "cell_type": "code",
      "execution_count": 31,
      "id": "4bad6849",
      "metadata": {
        "id": "4bad6849"
      },
      "outputs": [],
      "source": [
        "torch.manual_seed(42)\n",
        "torch.cuda.manual_seed(42)\n",
        "random.seed(42)"
      ]
    },
    {
      "cell_type": "markdown",
      "id": "db51f963",
      "metadata": {
        "id": "db51f963"
      },
      "source": [
        "##### Setting the hyperparameters"
      ]
    },
    {
      "cell_type": "code",
      "execution_count": 32,
      "id": "e734d5b0",
      "metadata": {
        "id": "e734d5b0"
      },
      "outputs": [],
      "source": [
        "BATCH_SIZE = 128\n",
        "EPOCHS = 10\n",
        "LEARNING_RATE = 3e-4\n",
        "PATCH_SIZE = 4\n",
        "NUM_CLASSES = 10\n",
        "IMAGE_SIZE = 32\n",
        "CHANNELS = 3\n",
        "EMBED_DIM = 256\n",
        "NUM_HEADS = 8\n",
        "DEPTH = 6\n",
        "MLP_DIM = 512\n",
        "DROP_RATE = 0.1"
      ]
    },
    {
      "cell_type": "markdown",
      "id": "06d193bd",
      "metadata": {
        "id": "06d193bd"
      },
      "source": [
        "##### Define Image Transformations"
      ]
    },
    {
      "cell_type": "code",
      "execution_count": 33,
      "id": "c8b82cdb",
      "metadata": {
        "id": "c8b82cdb"
      },
      "outputs": [],
      "source": [
        "transform = transforms.Compose([\n",
        "    transforms.ToTensor(),\n",
        "    transforms.Normalize((0.5), (0.5))\n",
        "    # helps the model to converge faster and\n",
        "    # also it helps to make numerical computations stable\n",
        "])"
      ]
    },
    {
      "cell_type": "markdown",
      "id": "886fe4b9",
      "metadata": {
        "id": "886fe4b9"
      },
      "source": [
        "##### Getting a dataset"
      ]
    },
    {
      "cell_type": "code",
      "execution_count": 34,
      "id": "91d8523c",
      "metadata": {
        "id": "91d8523c"
      },
      "outputs": [],
      "source": [
        "train_dataset = datasets.CIFAR10(root=\"data\", train=True, download=True, transform=transform)\n",
        "test_dataset = datasets.CIFAR10(root=\"data\", train=False, download=True, transform=transform)"
      ]
    },
    {
      "cell_type": "markdown",
      "id": "81473b98",
      "metadata": {
        "id": "81473b98"
      },
      "source": [
        "##### Converting our datasets into dataloaders\n",
        "- Right now, our data is in the form of PyTorch Datasets.\n",
        "- DataLoader turns our data into batches or (mini-batches)\n",
        "    - It is more computationally efficient, as in, our computing hardware may not be able to look (store in memory) at 50000 images in one hit. So we break it into 128 images at a time. (batch size of 128).\n",
        "    - It gives our NN more chances to update its gradients per epoch."
      ]
    },
    {
      "cell_type": "code",
      "execution_count": 35,
      "id": "c37ad047",
      "metadata": {
        "id": "c37ad047"
      },
      "outputs": [],
      "source": [
        "train_loader = DataLoader(dataset=train_dataset, batch_size=BATCH_SIZE, shuffle=True)\n",
        "test_loader = DataLoader(dataset=test_dataset, batch_size=BATCH_SIZE, shuffle=False) # best practice not to shuffle"
      ]
    },
    {
      "cell_type": "code",
      "execution_count": 36,
      "id": "07534714",
      "metadata": {
        "colab": {
          "base_uri": "https://localhost:8080/"
        },
        "id": "07534714",
        "outputId": "75d19205-aa44-4585-e544-543490970916"
      },
      "outputs": [
        {
          "name": "stdout",
          "output_type": "stream",
          "text": [
            "DataLoader: (<torch.utils.data.dataloader.DataLoader object at 0x7b34f0c74cd0>, <torch.utils.data.dataloader.DataLoader object at 0x7b34f0c754d0>)\n",
            "Length of train_loader: 391 batches of 128....\n",
            "Length of test_loader: 79 batches of 128...\n"
          ]
        }
      ],
      "source": [
        "print(f\"DataLoader: {train_loader, test_loader}\")\n",
        "print(f\"Length of train_loader: {len(train_loader)} batches of {BATCH_SIZE}....\")\n",
        "print(f\"Length of test_loader: {len(test_loader)} batches of {BATCH_SIZE}...\")"
      ]
    },
    {
      "cell_type": "markdown",
      "id": "8a72a2a8",
      "metadata": {
        "id": "8a72a2a8"
      },
      "source": [
        "##### Building Vision Transformer Model from Scratch"
      ]
    },
    {
      "cell_type": "code",
      "execution_count": 37,
      "id": "19914694",
      "metadata": {
        "id": "19914694"
      },
      "outputs": [],
      "source": [
        "class PatchEmbedding(nn.Module): # we need to split our images into patches\n",
        "    def __init__(self, imageSize, patchSize, inChannels, embedDim):\n",
        "        super().__init__()\n",
        "        self.patchSize = patchSize\n",
        "        self.projection = nn.Conv2d(in_channels=inChannels, out_channels=embedDim, kernel_size=patchSize, stride=patchSize)\n",
        "        numPatches = (imageSize // patchSize) ** 2 # integer division\n",
        "        self.clsToken = nn.Parameter(torch.randn(1, 1, embedDim)) # initialize weights randomly\n",
        "        self.posEmbedding = nn.Parameter(torch.randn(1, 1+numPatches, embedDim)) # represents positional information\n",
        "\n",
        "    def forward(self, x : torch.Tensor):\n",
        "        B = x.size(0) # to receive the size for X at index '0'\n",
        "        x = self.projection(x) # (B, E, H/P, w/P)\n",
        "        x = x.flatten(2).transpose(1, 2) # (B, N, E) to make sure shapes align\n",
        "        clsToken = self.clsToken.expand(B, -1, -1)\n",
        "        x = torch.cat((clsToken, x), dim=1)\n",
        "        x = x + self.posEmbedding\n",
        "        return x\n"
      ]
    },
    {
      "cell_type": "code",
      "execution_count": 38,
      "id": "edba8d22",
      "metadata": {
        "id": "edba8d22"
      },
      "outputs": [],
      "source": [
        "# emb = PatchEmbedding(imageSize=IMAGE_SIZE, patchSize=PATCH_SIZE, inChannels=3, embedDim=EMBED_DIM)"
      ]
    },
    {
      "cell_type": "code",
      "execution_count": 39,
      "id": "116175c2",
      "metadata": {
        "id": "116175c2"
      },
      "outputs": [],
      "source": [
        "# x = torch.randn(2, 3, IMAGE_SIZE, IMAGE_SIZE) # batch size of 2\n",
        "# x.shape"
      ]
    },
    {
      "cell_type": "code",
      "execution_count": 40,
      "id": "4efa93c2",
      "metadata": {
        "id": "4efa93c2"
      },
      "outputs": [],
      "source": [
        "class MLP(nn.Module):\n",
        "    def __init__(self, in_features, hidden_features, dropRate):\n",
        "        super().__init__()\n",
        "        self.fc1 = nn.Linear(in_features=in_features, out_features=hidden_features)\n",
        "        self.fc2 = nn.Linear(in_features=hidden_features, out_features=in_features)\n",
        "        self.dropout = nn.Dropout(dropRate)\n",
        "\n",
        "    def forward(self, x):\n",
        "        x = self.dropout(F.gelu(self.fc1(x)))\n",
        "        x = self.dropout(self.fc2(x))\n",
        "        return x"
      ]
    },
    {
      "cell_type": "code",
      "execution_count": null,
      "id": "bf5fa02a",
      "metadata": {
        "id": "bf5fa02a"
      },
      "outputs": [],
      "source": [
        "class TransformerEncoderLayer(nn.Module):\n",
        "    def __init__(self, embedDim, numHeads, mlpDim, dropRate):\n",
        "        super().__init__()\n",
        "        self.norm1 = nn.LayerNorm(embedDim)\n",
        "        self.attention = nn.MultiheadAttention(embed_dim=embedDim, num_heads=numHeads, dropout=dropRate, batch_first=True)\n",
        "        self.norm2 = nn.LayerNorm(embedDim)\n",
        "        self.mlp = MLP(embedDim, mlpDim, dropRate)\n",
        "\n",
        "    def forward(self, x):\n",
        "        x = x + self.attention(self.norm1(x), self.norm1(x), self.norm1(x))[0]\n",
        "        x = x + self.mlp(self.norm2(x))\n",
        "        return x"
      ]
    },
    {
      "cell_type": "code",
      "execution_count": 42,
      "id": "2c73ab68",
      "metadata": {
        "id": "2c73ab68"
      },
      "outputs": [],
      "source": [
        "class VisionTransformer(nn.Module):\n",
        "    def __init__(self, imageSize, patchSize, in_channels, numClasses, embedDim, depth, numHeads, mlpDim, dropRate):\n",
        "        super().__init__()\n",
        "        self.patchEmbed = PatchEmbedding(imageSize=imageSize, patchSize=patchSize, inChannels=in_channels, embedDim=embedDim)\n",
        "        self.encoder = nn.Sequential(*[\n",
        "            TransformerEncoderLayer(embedDim, numHeads, mlpDim, dropRate)\n",
        "            for _ in range(depth)\n",
        "        ])\n",
        "        self.norm = nn.LayerNorm(embedDim)\n",
        "        self.head = nn.Linear(embedDim, numClasses)\n",
        "\n",
        "    def forward(self, x):\n",
        "        x = self.patchEmbed(x)\n",
        "        x = self.encoder(x)\n",
        "        x = self.norm(x)\n",
        "        clsToken = x[:, 0] # doing indexing\n",
        "        return self.head(clsToken) # output 10 logits"
      ]
    },
    {
      "cell_type": "markdown",
      "id": "11e62101",
      "metadata": {
        "id": "11e62101"
      },
      "source": [
        "##### Instantiate Model"
      ]
    },
    {
      "cell_type": "code",
      "execution_count": 43,
      "id": "509b23f2",
      "metadata": {
        "id": "509b23f2"
      },
      "outputs": [],
      "source": [
        "model = VisionTransformer(\n",
        "    IMAGE_SIZE, PATCH_SIZE, CHANNELS, NUM_CLASSES, EMBED_DIM, DEPTH, NUM_HEADS, MLP_DIM, DROP_RATE\n",
        ").to(device)"
      ]
    },
    {
      "cell_type": "code",
      "execution_count": 44,
      "id": "552e725c",
      "metadata": {
        "colab": {
          "base_uri": "https://localhost:8080/"
        },
        "id": "552e725c",
        "outputId": "a1aacea4-8e16-40ab-d20f-7fab982b40aa"
      },
      "outputs": [
        {
          "data": {
            "text/plain": [
              "VisionTransformer(\n",
              "  (patchEmbed): PatchEmbedding(\n",
              "    (projection): Conv2d(3, 256, kernel_size=(4, 4), stride=(4, 4))\n",
              "  )\n",
              "  (encoder): Sequential(\n",
              "    (0): TransformerEncoderLayer(\n",
              "      (norm1): LayerNorm((256,), eps=1e-05, elementwise_affine=True)\n",
              "      (attention): MultiheadAttention(\n",
              "        (out_proj): NonDynamicallyQuantizableLinear(in_features=256, out_features=256, bias=True)\n",
              "      )\n",
              "      (norm2): LayerNorm((256,), eps=1e-05, elementwise_affine=True)\n",
              "      (mlp): MLP(\n",
              "        (fc1): Linear(in_features=256, out_features=512, bias=True)\n",
              "        (fc2): Linear(in_features=512, out_features=256, bias=True)\n",
              "        (dropout): Dropout(p=0.1, inplace=False)\n",
              "      )\n",
              "    )\n",
              "    (1): TransformerEncoderLayer(\n",
              "      (norm1): LayerNorm((256,), eps=1e-05, elementwise_affine=True)\n",
              "      (attention): MultiheadAttention(\n",
              "        (out_proj): NonDynamicallyQuantizableLinear(in_features=256, out_features=256, bias=True)\n",
              "      )\n",
              "      (norm2): LayerNorm((256,), eps=1e-05, elementwise_affine=True)\n",
              "      (mlp): MLP(\n",
              "        (fc1): Linear(in_features=256, out_features=512, bias=True)\n",
              "        (fc2): Linear(in_features=512, out_features=256, bias=True)\n",
              "        (dropout): Dropout(p=0.1, inplace=False)\n",
              "      )\n",
              "    )\n",
              "    (2): TransformerEncoderLayer(\n",
              "      (norm1): LayerNorm((256,), eps=1e-05, elementwise_affine=True)\n",
              "      (attention): MultiheadAttention(\n",
              "        (out_proj): NonDynamicallyQuantizableLinear(in_features=256, out_features=256, bias=True)\n",
              "      )\n",
              "      (norm2): LayerNorm((256,), eps=1e-05, elementwise_affine=True)\n",
              "      (mlp): MLP(\n",
              "        (fc1): Linear(in_features=256, out_features=512, bias=True)\n",
              "        (fc2): Linear(in_features=512, out_features=256, bias=True)\n",
              "        (dropout): Dropout(p=0.1, inplace=False)\n",
              "      )\n",
              "    )\n",
              "    (3): TransformerEncoderLayer(\n",
              "      (norm1): LayerNorm((256,), eps=1e-05, elementwise_affine=True)\n",
              "      (attention): MultiheadAttention(\n",
              "        (out_proj): NonDynamicallyQuantizableLinear(in_features=256, out_features=256, bias=True)\n",
              "      )\n",
              "      (norm2): LayerNorm((256,), eps=1e-05, elementwise_affine=True)\n",
              "      (mlp): MLP(\n",
              "        (fc1): Linear(in_features=256, out_features=512, bias=True)\n",
              "        (fc2): Linear(in_features=512, out_features=256, bias=True)\n",
              "        (dropout): Dropout(p=0.1, inplace=False)\n",
              "      )\n",
              "    )\n",
              "    (4): TransformerEncoderLayer(\n",
              "      (norm1): LayerNorm((256,), eps=1e-05, elementwise_affine=True)\n",
              "      (attention): MultiheadAttention(\n",
              "        (out_proj): NonDynamicallyQuantizableLinear(in_features=256, out_features=256, bias=True)\n",
              "      )\n",
              "      (norm2): LayerNorm((256,), eps=1e-05, elementwise_affine=True)\n",
              "      (mlp): MLP(\n",
              "        (fc1): Linear(in_features=256, out_features=512, bias=True)\n",
              "        (fc2): Linear(in_features=512, out_features=256, bias=True)\n",
              "        (dropout): Dropout(p=0.1, inplace=False)\n",
              "      )\n",
              "    )\n",
              "    (5): TransformerEncoderLayer(\n",
              "      (norm1): LayerNorm((256,), eps=1e-05, elementwise_affine=True)\n",
              "      (attention): MultiheadAttention(\n",
              "        (out_proj): NonDynamicallyQuantizableLinear(in_features=256, out_features=256, bias=True)\n",
              "      )\n",
              "      (norm2): LayerNorm((256,), eps=1e-05, elementwise_affine=True)\n",
              "      (mlp): MLP(\n",
              "        (fc1): Linear(in_features=256, out_features=512, bias=True)\n",
              "        (fc2): Linear(in_features=512, out_features=256, bias=True)\n",
              "        (dropout): Dropout(p=0.1, inplace=False)\n",
              "      )\n",
              "    )\n",
              "  )\n",
              "  (norm): LayerNorm((256,), eps=1e-05, elementwise_affine=True)\n",
              "  (head): Linear(in_features=256, out_features=10, bias=True)\n",
              ")"
            ]
          },
          "execution_count": 44,
          "metadata": {},
          "output_type": "execute_result"
        }
      ],
      "source": [
        "model"
      ]
    },
    {
      "cell_type": "markdown",
      "id": "178eaff4",
      "metadata": {
        "id": "178eaff4"
      },
      "source": [
        "##### Defining a Loss Function and an optimizer"
      ]
    },
    {
      "cell_type": "code",
      "execution_count": 45,
      "id": "ef5f3b43",
      "metadata": {
        "id": "ef5f3b43"
      },
      "outputs": [],
      "source": [
        "criterion = nn.CrossEntropyLoss() # measure how wrong our model is\n",
        "optimizer = optim.Adam(params=model.parameters(), lr=LEARNING_RATE)"
      ]
    },
    {
      "cell_type": "markdown",
      "id": "a8c04d45",
      "metadata": {
        "id": "a8c04d45"
      },
      "source": [
        "##### Defining a Training Loop Function"
      ]
    },
    {
      "cell_type": "code",
      "execution_count": 46,
      "id": "477461bc",
      "metadata": {
        "id": "477461bc"
      },
      "outputs": [],
      "source": [
        "def train(model, loader, optimizer, criterion):\n",
        "    model.train()\n",
        "\n",
        "    totalLoss, correct = 0, 0\n",
        "\n",
        "    for x, y in loader:\n",
        "        x, y = x.to(device), y.to(device)\n",
        "        optimizer.zero_grad()\n",
        "        # forward pass (model outputs raw logits)\n",
        "        output = model(x)\n",
        "        # calculate loss (per batch)\n",
        "        loss = criterion(output, y)\n",
        "        # perform backpropagation\n",
        "        loss.backward()\n",
        "        # perform gradient descent\n",
        "        optimizer.step()\n",
        "        totalLoss += loss.item() * x.size(0)\n",
        "        correct += (output.argmax(1) == y).sum().item()\n",
        "\n",
        "    # scale the loss (Normalization step to make the loss general across all batches)\n",
        "    return totalLoss / len(loader.dataset), correct / len(loader.dataset)"
      ]
    },
    {
      "cell_type": "code",
      "execution_count": 47,
      "id": "16582f17",
      "metadata": {
        "id": "16582f17"
      },
      "outputs": [],
      "source": [
        "def evaluate(model, loader):\n",
        "    model.eval() # set the mode of the model into evaluation\n",
        "    correct = 0\n",
        "    with torch.inference_mode():\n",
        "        for x, y, in loader:\n",
        "            x, y = x.to(device), y.to(device)\n",
        "            output = model(x)\n",
        "            correct += (output.argmax(1) == y).sum().item()\n",
        "    return correct / len(loader.dataset)"
      ]
    },
    {
      "cell_type": "markdown",
      "id": "1df4dc78",
      "metadata": {
        "id": "1df4dc78"
      },
      "source": [
        "##### Training"
      ]
    },
    {
      "cell_type": "code",
      "execution_count": 48,
      "id": "fdb29690",
      "metadata": {
        "id": "fdb29690"
      },
      "outputs": [],
      "source": [
        "from tqdm.auto import tqdm"
      ]
    },
    {
      "cell_type": "code",
      "execution_count": 49,
      "id": "9a3c007a",
      "metadata": {
        "colab": {
          "base_uri": "https://localhost:8080/",
          "height": 223,
          "referenced_widgets": [
            "1560883bb4034f1e983966676bdf301d",
            "b4afec1c0ef74189813a50c84efc39bd",
            "467bdffcf9bc446dbc022b828286b85c",
            "3bd99bdaa24441e2964cb11d66c40119",
            "6d4b4e99d7ae4420bdb32c8ba6524872",
            "97949b1bbfb243599415a9b98d312754",
            "982c6a56e7234703a2bf43ec3f721d54",
            "74d3d3340faa4d3fada0bfd434cfdaeb",
            "62a4407b0f53413aa87e8eeaa1aaadf0",
            "198f99bda1684f7d83294677ea3295dd",
            "88c3b0e31d8644c19dd756f3db1f45f5"
          ]
        },
        "id": "9a3c007a",
        "outputId": "e1817462-5045-48ab-bf60-68355d76ebc7"
      },
      "outputs": [
        {
          "data": {
            "application/vnd.jupyter.widget-view+json": {
              "model_id": "1560883bb4034f1e983966676bdf301d",
              "version_major": 2,
              "version_minor": 0
            },
            "text/plain": [
              "  0%|          | 0/10 [00:00<?, ?it/s]"
            ]
          },
          "metadata": {},
          "output_type": "display_data"
        },
        {
          "name": "stdout",
          "output_type": "stream",
          "text": [
            "Epoch: 1/10, Train loss: 1.7331, Train accuracy: 0.3708, Test accuracy: 0.4770\n",
            "Epoch: 2/10, Train loss: 1.3834, Train accuracy: 0.5039, Test accuracy: 0.5328\n",
            "Epoch: 3/10, Train loss: 1.2328, Train accuracy: 0.5584, Test accuracy: 0.5723\n",
            "Epoch: 4/10, Train loss: 1.1271, Train accuracy: 0.5967, Test accuracy: 0.5822\n",
            "Epoch: 5/10, Train loss: 1.0379, Train accuracy: 0.6279, Test accuracy: 0.6069\n",
            "Epoch: 6/10, Train loss: 0.9662, Train accuracy: 0.6542, Test accuracy: 0.6187\n",
            "Epoch: 7/10, Train loss: 0.8885, Train accuracy: 0.6824, Test accuracy: 0.6242\n",
            "Epoch: 8/10, Train loss: 0.8157, Train accuracy: 0.7079, Test accuracy: 0.6134\n",
            "Epoch: 9/10, Train loss: 0.7457, Train accuracy: 0.7352, Test accuracy: 0.6314\n",
            "Epoch: 10/10, Train loss: 0.6707, Train accuracy: 0.7621, Test accuracy: 0.6319\n"
          ]
        }
      ],
      "source": [
        "train_accuracies = []\n",
        "test_accuracies = []\n",
        "\n",
        "for epoch in tqdm(range(EPOCHS)):\n",
        "    trainLoss, trainAccuracy = train(model, train_loader, optimizer, criterion)\n",
        "    testAccuracy = evaluate(model, test_loader)\n",
        "    train_accuracies.append(trainAccuracy)\n",
        "    test_accuracies.append(testAccuracy)\n",
        "    print(f\"Epoch: {epoch+1}/{EPOCHS}, Train loss: {trainLoss:.4f}, Train accuracy: {trainAccuracy:.4f}, Test accuracy: {testAccuracy:.4f}\")"
      ]
    },
    {
      "cell_type": "code",
      "execution_count": 50,
      "id": "8XpsmeREWrdM",
      "metadata": {
        "colab": {
          "base_uri": "https://localhost:8080/"
        },
        "id": "8XpsmeREWrdM",
        "outputId": "7b217f93-e575-40e2-f066-4b42f342f448"
      },
      "outputs": [
        {
          "data": {
            "text/plain": [
              "[0.37082,\n",
              " 0.50392,\n",
              " 0.55842,\n",
              " 0.59672,\n",
              " 0.62786,\n",
              " 0.65416,\n",
              " 0.68238,\n",
              " 0.70788,\n",
              " 0.73518,\n",
              " 0.76212]"
            ]
          },
          "execution_count": 50,
          "metadata": {},
          "output_type": "execute_result"
        }
      ],
      "source": [
        "train_accuracies"
      ]
    },
    {
      "cell_type": "code",
      "execution_count": 51,
      "id": "ODlBYAcWYWvj",
      "metadata": {
        "colab": {
          "base_uri": "https://localhost:8080/"
        },
        "id": "ODlBYAcWYWvj",
        "outputId": "ecaa194f-482a-4125-c67b-14ba27977f83"
      },
      "outputs": [
        {
          "data": {
            "text/plain": [
              "[0.477, 0.5328, 0.5723, 0.5822, 0.6069, 0.6187, 0.6242, 0.6134, 0.6314, 0.6319]"
            ]
          },
          "execution_count": 51,
          "metadata": {},
          "output_type": "execute_result"
        }
      ],
      "source": [
        "test_accuracies"
      ]
    },
    {
      "cell_type": "markdown",
      "id": "fq-q3sT1Yge3",
      "metadata": {
        "id": "fq-q3sT1Yge3"
      },
      "source": [
        "##### Plot accuracy"
      ]
    },
    {
      "cell_type": "code",
      "execution_count": 52,
      "id": "B0rg3KJMYfrl",
      "metadata": {
        "colab": {
          "base_uri": "https://localhost:8080/",
          "height": 472
        },
        "id": "B0rg3KJMYfrl",
        "outputId": "2a0a20bc-38eb-4328-e6f9-f2ad1d2d1403"
      },
      "outputs": [
        {
          "data": {
            "image/png": "[encoded data removed]",
            "text/plain": [
              "<Figure size 640x480 with 1 Axes>"
            ]
          },
          "metadata": {},
          "output_type": "display_data"
        }
      ],
      "source": [
        "plt.plot(train_accuracies, label=\"Train Accuracy\")\n",
        "plt.plot(test_accuracies, label=\"Test Accuracy\")\n",
        "plt.xlabel(\"Epochs\")\n",
        "plt.ylabel(\"Accuracy\")\n",
        "plt.legend()\n",
        "plt.title(\"Training and Test Accuracy\")\n",
        "plt.show()"
      ]
    },
    {
      "cell_type": "markdown",
      "id": "YGHy5JbvZmza",
      "metadata": {
        "id": "YGHy5JbvZmza"
      },
      "source": [
        "##### Visualize Predictions"
      ]
    },
    {
      "cell_type": "code",
      "execution_count": 57,
      "id": "zKJjuv2dZdS7",
      "metadata": {
        "id": "zKJjuv2dZdS7"
      },
      "outputs": [],
      "source": [
        "def predictAndPlotGrid(model, dataset, classes, gridSize=3):\n",
        "  model.eval()\n",
        "  fix, axes = plt.subplots(gridSize, gridSize, figsize=(9, 9))\n",
        "  for i in range(gridSize):\n",
        "    for j in range(gridSize):\n",
        "      idx = random.randint(0, len(dataset) - 1)\n",
        "      img, true_label = dataset[idx]\n",
        "      input_tensor = img.unsqueeze(dim=0).to(device)\n",
        "      with torch.inference_mode():\n",
        "        output = model(input_tensor)\n",
        "        _, predicted = torch.max(output.data, 1)\n",
        "      img = img / 2 + 0.5 # unnormalize images to be able to plot them with matplotlib\n",
        "      npimg = img.cpu().numpy()\n",
        "      axes[i, j].imshow(np.transpose(npimg, (1, 2, 0)))\n",
        "      truth = classes[true_label] == classes[predicted.item()]\n",
        "      if truth:\n",
        "        color = \"g\"\n",
        "      else:\n",
        "        color = \"r\"\n",
        "      axes[i, j].set_title(f\"Truth: {classes[true_label]}\\n, Predicted: {classes[predicted.item()]}\", fontsize=10, c=color)\n",
        "      axes[i, j].axis(\"off\")\n",
        "  plt.tight_layout()\n",
        "  plt.show()"
      ]
    },
    {
      "cell_type": "code",
      "execution_count": 58,
      "id": "LZvwS9-gb1Rm",
      "metadata": {
        "colab": {
          "base_uri": "https://localhost:8080/",
          "height": 906
        },
        "id": "LZvwS9-gb1Rm",
        "outputId": "ffa161e9-100e-4378-bdc4-9f36fb2bf637"
      },
      "outputs": [
        {
          "data": {
            "image/png": "[encoded data removed]",
            "text/plain": [
              "<Figure size 900x900 with 9 Axes>"
            ]
          },
          "metadata": {},
          "output_type": "display_data"
        }
      ],
      "source": [
        "predictAndPlotGrid(model, test_dataset, classes=train_dataset.classes, gridSize=3)"
      ]
    },
    {
      "cell_type": "code",
      "execution_count": null,
      "id": "LZ7OirricDsH",
      "metadata": {
        "id": "LZ7OirricDsH"
      },
      "outputs": [],
      "source": []
    }
  ],
  "metadata": {
    "accelerator": "GPU",
    "colab": {
      "gpuType": "T4",
      "provenance": []
    },
    "kernelspec": {
      "display_name": "dev",
      "language": "python",
      "name": "python3"
    },
    "language_info": {
      "codemirror_mode": {
        "name": "ipython",
        "version": 3
      },
      "file_extension": ".py",
      "mimetype": "text/x-python",
      "name": "python",
      "nbconvert_exporter": "python",
      "pygments_lexer": "ipython3",
      "version": "3.12.11"
    },
    "widgets": {
      "application/vnd.jupyter.widget-state+json": {
        "1560883bb4034f1e983966676bdf301d": {
          "model_module": "@jupyter-widgets/controls",
          "model_module_version": "1.5.0",
          "model_name": "HBoxModel",
          "state": {
            "_dom_classes": [],
            "_model_module": "@jupyter-widgets/controls",
            "_model_module_version": "1.5.0",
            "_model_name": "HBoxModel",
            "_view_count": null,
            "_view_module": "@jupyter-widgets/controls",
            "_view_module_version": "1.5.0",
            "_view_name": "HBoxView",
            "box_style": "",
            "children": [
              "IPY_MODEL_b4afec1c0ef74189813a50c84efc39bd",
              "IPY_MODEL_467bdffcf9bc446dbc022b828286b85c",
              "IPY_MODEL_3bd99bdaa24441e2964cb11d66c40119"
            ],
            "layout": "IPY_MODEL_6d4b4e99d7ae4420bdb32c8ba6524872"
          }
        },
        "198f99bda1684f7d83294677ea3295dd": {
          "model_module": "@jupyter-widgets/base",
          "model_module_version": "1.2.0",
          "model_name": "LayoutModel",
          "state": {
            "_model_module": "@jupyter-widgets/base",
            "_model_module_version": "1.2.0",
            "_model_name": "LayoutModel",
            "_view_count": null,
            "_view_module": "@jupyter-widgets/base",
            "_view_module_version": "1.2.0",
            "_view_name": "LayoutView",
            "align_content": null,
            "align_items": null,
            "align_self": null,
            "border": null,
            "bottom": null,
            "display": null,
            "flex": null,
            "flex_flow": null,
            "grid_area": null,
            "grid_auto_columns": null,
            "grid_auto_flow": null,
            "grid_auto_rows": null,
            "grid_column": null,
            "grid_gap": null,
            "grid_row": null,
            "grid_template_areas": null,
            "grid_template_columns": null,
            "grid_template_rows": null,
            "height": null,
            "justify_content": null,
            "justify_items": null,
            "left": null,
            "margin": null,
            "max_height": null,
            "max_width": null,
            "min_height": null,
            "min_width": null,
            "object_fit": null,
            "object_position": null,
            "order": null,
            "overflow": null,
            "overflow_x": null,
            "overflow_y": null,
            "padding": null,
            "right": null,
            "top": null,
            "visibility": null,
            "width": null
          }
        },
        "3bd99bdaa24441e2964cb11d66c40119": {
          "model_module": "@jupyter-widgets/controls",
          "model_module_version": "1.5.0",
          "model_name": "HTMLModel",
          "state": {
            "_dom_classes": [],
            "_model_module": "@jupyter-widgets/controls",
            "_model_module_version": "1.5.0",
            "_model_name": "HTMLModel",
            "_view_count": null,
            "_view_module": "@jupyter-widgets/controls",
            "_view_module_version": "1.5.0",
            "_view_name": "HTMLView",
            "description": "",
            "description_tooltip": null,
            "layout": "IPY_MODEL_198f99bda1684f7d83294677ea3295dd",
            "placeholder": "​",
            "style": "IPY_MODEL_88c3b0e31d8644c19dd756f3db1f45f5",
            "value": " 10/10 [07:56&lt;00:00, 47.36s/it]"
          }
        },
        "467bdffcf9bc446dbc022b828286b85c": {
          "model_module": "@jupyter-widgets/controls",
          "model_module_version": "1.5.0",
          "model_name": "FloatProgressModel",
          "state": {
            "_dom_classes": [],
            "_model_module": "@jupyter-widgets/controls",
            "_model_module_version": "1.5.0",
            "_model_name": "FloatProgressModel",
            "_view_count": null,
            "_view_module": "@jupyter-widgets/controls",
            "_view_module_version": "1.5.0",
            "_view_name": "ProgressView",
            "bar_style": "success",
            "description": "",
            "description_tooltip": null,
            "layout": "IPY_MODEL_74d3d3340faa4d3fada0bfd434cfdaeb",
            "max": 10,
            "min": 0,
            "orientation": "horizontal",
            "style": "IPY_MODEL_62a4407b0f53413aa87e8eeaa1aaadf0",
            "value": 10
          }
        },
        "62a4407b0f53413aa87e8eeaa1aaadf0": {
          "model_module": "@jupyter-widgets/controls",
          "model_module_version": "1.5.0",
          "model_name": "ProgressStyleModel",
          "state": {
            "_model_module": "@jupyter-widgets/controls",
            "_model_module_version": "1.5.0",
            "_model_name": "ProgressStyleModel",
            "_view_count": null,
            "_view_module": "@jupyter-widgets/base",
            "_view_module_version": "1.2.0",
            "_view_name": "StyleView",
            "bar_color": null,
            "description_width": ""
          }
        },
        "6d4b4e99d7ae4420bdb32c8ba6524872": {
          "model_module": "@jupyter-widgets/base",
          "model_module_version": "1.2.0",
          "model_name": "LayoutModel",
          "state": {
            "_model_module": "@jupyter-widgets/base",
            "_model_module_version": "1.2.0",
            "_model_name": "LayoutModel",
            "_view_count": null,
            "_view_module": "@jupyter-widgets/base",
            "_view_module_version": "1.2.0",
            "_view_name": "LayoutView",
            "align_content": null,
            "align_items": null,
            "align_self": null,
            "border": null,
            "bottom": null,
            "display": null,
            "flex": null,
            "flex_flow": null,
            "grid_area": null,
            "grid_auto_columns": null,
            "grid_auto_flow": null,
            "grid_auto_rows": null,
            "grid_column": null,
            "grid_gap": null,
            "grid_row": null,
            "grid_template_areas": null,
            "grid_template_columns": null,
            "grid_template_rows": null,
            "height": null,
            "justify_content": null,
            "justify_items": null,
            "left": null,
            "margin": null,
            "max_height": null,
            "max_width": null,
            "min_height": null,
            "min_width": null,
            "object_fit": null,
            "object_position": null,
            "order": null,
            "overflow": null,
            "overflow_x": null,
            "overflow_y": null,
            "padding": null,
            "right": null,
            "top": null,
            "visibility": null,
            "width": null
          }
        },
        "74d3d3340faa4d3fada0bfd434cfdaeb": {
          "model_module": "@jupyter-widgets/base",
          "model_module_version": "1.2.0",
          "model_name": "LayoutModel",
          "state": {
            "_model_module": "@jupyter-widgets/base",
            "_model_module_version": "1.2.0",
            "_model_name": "LayoutModel",
            "_view_count": null,
            "_view_module": "@jupyter-widgets/base",
            "_view_module_version": "1.2.0",
            "_view_name": "LayoutView",
            "align_content": null,
            "align_items": null,
            "align_self": null,
            "border": null,
            "bottom": null,
            "display": null,
            "flex": null,
            "flex_flow": null,
            "grid_area": null,
            "grid_auto_columns": null,
            "grid_auto_flow": null,
            "grid_auto_rows": null,
            "grid_column": null,
            "grid_gap": null,
            "grid_row": null,
            "grid_template_areas": null,
            "grid_template_columns": null,
            "grid_template_rows": null,
            "height": null,
            "justify_content": null,
            "justify_items": null,
            "left": null,
            "margin": null,
            "max_height": null,
            "max_width": null,
            "min_height": null,
            "min_width": null,
            "object_fit": null,
            "object_position": null,
            "order": null,
            "overflow": null,
            "overflow_x": null,
            "overflow_y": null,
            "padding": null,
            "right": null,
            "top": null,
            "visibility": null,
            "width": null
          }
        },
        "88c3b0e31d8644c19dd756f3db1f45f5": {
          "model_module": "@jupyter-widgets/controls",
          "model_module_version": "1.5.0",
          "model_name": "DescriptionStyleModel",
          "state": {
            "_model_module": "@jupyter-widgets/controls",
            "_model_module_version": "1.5.0",
            "_model_name": "DescriptionStyleModel",
            "_view_count": null,
            "_view_module": "@jupyter-widgets/base",
            "_view_module_version": "1.2.0",
            "_view_name": "StyleView",
            "description_width": ""
          }
        },
        "97949b1bbfb243599415a9b98d312754": {
          "model_module": "@jupyter-widgets/base",
          "model_module_version": "1.2.0",
          "model_name": "LayoutModel",
          "state": {
            "_model_module": "@jupyter-widgets/base",
            "_model_module_version": "1.2.0",
            "_model_name": "LayoutModel",
            "_view_count": null,
            "_view_module": "@jupyter-widgets/base",
            "_view_module_version": "1.2.0",
            "_view_name": "LayoutView",
            "align_content": null,
            "align_items": null,
            "align_self": null,
            "border": null,
            "bottom": null,
            "display": null,
            "flex": null,
            "flex_flow": null,
            "grid_area": null,
            "grid_auto_columns": null,
            "grid_auto_flow": null,
            "grid_auto_rows": null,
            "grid_column": null,
            "grid_gap": null,
            "grid_row": null,
            "grid_template_areas": null,
            "grid_template_columns": null,
            "grid_template_rows": null,
            "height": null,
            "justify_content": null,
            "justify_items": null,
            "left": null,
            "margin": null,
            "max_height": null,
            "max_width": null,
            "min_height": null,
            "min_width": null,
            "object_fit": null,
            "object_position": null,
            "order": null,
            "overflow": null,
            "overflow_x": null,
            "overflow_y": null,
            "padding": null,
            "right": null,
            "top": null,
            "visibility": null,
            "width": null
          }
        },
        "982c6a56e7234703a2bf43ec3f721d54": {
          "model_module": "@jupyter-widgets/controls",
          "model_module_version": "1.5.0",
          "model_name": "DescriptionStyleModel",
          "state": {
            "_model_module": "@jupyter-widgets/controls",
            "_model_module_version": "1.5.0",
            "_model_name": "DescriptionStyleModel",
            "_view_count": null,
            "_view_module": "@jupyter-widgets/base",
            "_view_module_version": "1.2.0",
            "_view_name": "StyleView",
            "description_width": ""
          }
        },
        "b4afec1c0ef74189813a50c84efc39bd": {
          "model_module": "@jupyter-widgets/controls",
          "model_module_version": "1.5.0",
          "model_name": "HTMLModel",
          "state": {
            "_dom_classes": [],
            "_model_module": "@jupyter-widgets/controls",
            "_model_module_version": "1.5.0",
            "_model_name": "HTMLModel",
            "_view_count": null,
            "_view_module": "@jupyter-widgets/controls",
            "_view_module_version": "1.5.0",
            "_view_name": "HTMLView",
            "description": "",
            "description_tooltip": null,
            "layout": "IPY_MODEL_97949b1bbfb243599415a9b98d312754",
            "placeholder": "​",
            "style": "IPY_MODEL_982c6a56e7234703a2bf43ec3f721d54",
            "value": "100%"
          }
        }
      }
    }
  },
  "nbformat": 4,
  "nbformat_minor": 5
}
