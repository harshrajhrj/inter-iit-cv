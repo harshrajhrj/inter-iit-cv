{
  "cells": [
    {
      "cell_type": "markdown",
      "id": "059f7d8d",
      "metadata": {
        "id": "059f7d8d"
      },
      "source": [
        "# Vision Transformer\n",
        "Step-by-step explanation of Vision Transformer Architecture\n",
        "1. Image to patches\n",
        "2. Patch EMbedding\n",
        "3. Add positional Embeddings\n",
        "4. Add [CLS] token\n",
        "5. Transformer Encoder Layers\n",
        "6. Classification Head"
      ]
    },
    {
      "cell_type": "markdown",
      "id": "f6dee1a7",
      "metadata": {
        "id": "f6dee1a7"
      },
      "source": [
        "##### 1. Image to Patches\n",
        "Segment image into patches/grids (fixed-size like 4x4 or 16x16). Because this process is equivalent to the process of tokenization in NLP models (segement a sequence of text into tokens)."
      ]
    },
    {
      "cell_type": "markdown",
      "id": "2aa0129f",
      "metadata": {
        "id": "2aa0129f"
      },
      "source": [
        "##### 2. Patch Embedding\n",
        "Flatten the patches into 1D vector (because transformer deals with 1D data)"
      ]
    },
    {
      "cell_type": "markdown",
      "id": "6d2f8a49",
      "metadata": {
        "id": "6d2f8a49"
      },
      "source": [
        "##### 3. Add positional Embeddings\n",
        "We pass the vectors to the embedding layer to map these vectors/patches into high dimension dense vectors and then we add positional embeddings to preserve the order of the patches in order to encode positional information."
      ]
    },
    {
      "cell_type": "markdown",
      "id": "4b29f99a",
      "metadata": {
        "id": "4b29f99a"
      },
      "source": [
        "##### 4. Add [CLS] Token\n",
        "CLS Token is a special learnable token or vector that represents the whole image and this CLS Token will be used for classification. The output of this CLS token will be used later on for classification. [Patch token + Patch Embedding]. Special token to summarize image."
      ]
    },
    {
      "cell_type": "markdown",
      "id": "af5301e6",
      "metadata": {
        "id": "af5301e6"
      },
      "source": [
        "##### 5. Transformer Encoder Layers\n",
        "Consist of numerous blocks. Pass the output of [Patch token + Patch embedding] to the encoder layer."
      ]
    },
    {
      "cell_type": "markdown",
      "id": "4b95860b",
      "metadata": {
        "id": "4b95860b"
      },
      "source": [
        "##### 6. Classification Head\n",
        "Pass the output of transformer to the classification head to classify it into predefined classes. For example....CIFAR 10 (trained) will result output in either of 10 classes (one probability value of each class and highest probability is chosen using the arg max function to choose the predicted class)."
      ]
    },
    {
      "cell_type": "markdown",
      "id": "aaaf35da",
      "metadata": {
        "id": "aaaf35da"
      },
      "source": [
        "#### Comparative Study\n",
        "| NLP Transformer | Vision Transformer (VIT) | Explanation |\n",
        "| --- | --- | --- |\n",
        "| Tokens | Patches | Words/subwords in text -> Image split into small fixed-size patches |\n",
        "| Token IDs| Patch Indices | Each patch can be indexed like tokens |\n",
        "| Token Embedding | Patch Embedding | Converts token/patch index into dense vectors via learned projection |\n",
        "| Positional Embedding | Positional Embedding | Adds location information for sequence order/spatial structure |\n",
        "| [CLS] Token | [CLS] Token | Special token to summarize sequence/image -> used for classification |\n",
        "| Encoder Input Sequence | Embedded Patch Sequence | Input to Transformer: tokens + positional encoding OR patches + positional info |\n",
        "| Transformer Encoder Layers | Transformer Encoder Layers | Identical architecture for modeling dependencies |\n",
        "| Output Token Representation | [CLS] Token Representation | Used to generate final prediction (e.g., class label) |\n",
        "| Softmax Layer | Classification Head (MLP + Softmax) | Converts final output to class probabilites |"
      ]
    },
    {
      "cell_type": "markdown",
      "id": "0f6f8472",
      "metadata": {
        "id": "0f6f8472"
      },
      "source": [
        "Step-by-Step ViT Pipeline Image to Patches\n",
        "- The input imgae (e.g., 224x224x3) is divided into fixed-size patches (e.g., 16x16)\n",
        "- This converts the image into a sequence of small flattened grids.\n",
        "- Patch Embedding\n",
        "- Each patch is flattened into a vector and passed through a **linear projection layer** to embed it into a fixed-length vector (like word embeddings in NLP).\n",
        "    - IN VIT, the embedding layer used is a linear layer and not as embedding layer as in NLP.\n",
        "- Add Positional Embeddings\n",
        "- Since Transformers have no built-in sense of order, positional embeddings are added to each patch embedding to presever spatial information.\n",
        "- Add [CLS] Token\n",
        "- A special learnable token [CLS] is prepended to the sequence. Its output after the Transformer will represent the whole image (used for classification).\n",
        "- Transformer Encoder Layers\n",
        "- The sequence (patch embeddings + CLS + positional encoding) is fed into standard Transformer encoder layers:\n",
        "- Multi-Head Self-Attention\n",
        "- Add & Norm\n",
        "- Feed Forward Network\n",
        "- Add & Norm\n",
        "- CLassification Head\n",
        "- The final hidden state of the [CLS] token is passed through a classification layer (typically an MLP) to produce the predicted image class."
      ]
    },
    {
      "cell_type": "markdown",
      "id": "97781cd1",
      "metadata": {
        "id": "97781cd1"
      },
      "source": [
        "### Implementation"
      ]
    },
    {
      "cell_type": "markdown",
      "id": "3db994f9",
      "metadata": {
        "id": "3db994f9"
      },
      "source": [
        "##### Import required libraries"
      ]
    },
    {
      "cell_type": "code",
      "execution_count": 26,
      "id": "969bb76e",
      "metadata": {
        "id": "969bb76e"
      },
      "outputs": [],
      "source": [
        "import torch\n",
        "import torch.nn as nn\n",
        "import torch.nn.functional as F\n",
        "import torch.optim as optim\n",
        "import torchvision\n",
        "from torch.utils.data import DataLoader\n",
        "from torchvision import datasets, transforms\n",
        "import numpy as np\n",
        "import random # generate random indexes to visualize some images randomly\n",
        "import matplotlib.pyplot as plt"
      ]
    },
    {
      "cell_type": "code",
      "execution_count": 27,
      "id": "b3d4c583",
      "metadata": {
        "colab": {
          "base_uri": "https://localhost:8080/",
          "height": 35
        },
        "id": "b3d4c583",
        "outputId": "35eaca5c-dee5-4bf8-fead-220b931bfab8"
      },
      "outputs": [
        {
          "data": {
            "application/vnd.google.colaboratory.intrinsic+json": {
              "type": "string"
            },
            "text/plain": [
              "'2.6.0+cu124'"
            ]
          },
          "execution_count": 27,
          "metadata": {},
          "output_type": "execute_result"
        }
      ],
      "source": [
        "torch.__version__"
      ]
    },
    {
      "cell_type": "code",
      "execution_count": 28,
      "id": "040c4d68",
      "metadata": {
        "colab": {
          "base_uri": "https://localhost:8080/",
          "height": 35
        },
        "id": "040c4d68",
        "outputId": "48831deb-b476-4288-cdc8-29d945258f74"
      },
      "outputs": [
        {
          "data": {
            "application/vnd.google.colaboratory.intrinsic+json": {
              "type": "string"
            },
            "text/plain": [
              "'0.21.0+cu124'"
            ]
          },
          "execution_count": 28,
          "metadata": {},
          "output_type": "execute_result"
        }
      ],
      "source": [
        "torchvision.__version__"
      ]
    },
    {
      "cell_type": "markdown",
      "id": "9ee32a06",
      "metadata": {
        "id": "9ee32a06"
      },
      "source": [
        "##### Setup Device-Agnostic Code"
      ]
    },
    {
      "cell_type": "code",
      "execution_count": 29,
      "id": "035c7452",
      "metadata": {
        "colab": {
          "base_uri": "https://localhost:8080/",
          "height": 35
        },
        "id": "035c7452",
        "outputId": "87415442-2c0a-49d5-b473-b54f598bf7ac"
      },
      "outputs": [
        {
          "data": {
            "application/vnd.google.colaboratory.intrinsic+json": {
              "type": "string"
            },
            "text/plain": [
              "'cuda'"
            ]
          },
          "execution_count": 29,
          "metadata": {},
          "output_type": "execute_result"
        }
      ],
      "source": [
        "device = \"cuda\" if torch.cuda.is_available() else \"cpu\"\n",
        "device"
      ]
    },
    {
      "cell_type": "code",
      "execution_count": 30,
      "id": "ff3b61a2",
      "metadata": {
        "colab": {
          "base_uri": "https://localhost:8080/"
        },
        "id": "ff3b61a2",
        "outputId": "1b43ef69-cb3d-4033-cb8a-e540a3914fb0"
      },
      "outputs": [
        {
          "name": "stdout",
          "output_type": "stream",
          "text": [
            "Using Device: cuda\n"
          ]
        }
      ],
      "source": [
        "print(f\"Using Device: {device}\")"
      ]
    },
    {
      "cell_type": "markdown",
      "id": "974034d9",
      "metadata": {
        "id": "974034d9"
      },
      "source": [
        "##### Set the seed"
      ]
    },
    {
      "cell_type": "code",
      "execution_count": 31,
      "id": "4bad6849",
      "metadata": {
        "id": "4bad6849"
      },
      "outputs": [],
      "source": [
        "torch.manual_seed(42)\n",
        "torch.cuda.manual_seed(42)\n",
        "random.seed(42)"
      ]
    },
    {
      "cell_type": "markdown",
      "id": "db51f963",
      "metadata": {
        "id": "db51f963"
      },
      "source": [
        "##### Setting the hyperparameters"
      ]
    },
    {
      "cell_type": "code",
      "execution_count": 196,
      "id": "e734d5b0",
      "metadata": {
        "id": "e734d5b0"
      },
      "outputs": [],
      "source": [
        "BATCH_SIZE = 128\n",
        "EPOCHS = 20 # applied change\n",
        "LEARNING_RATE = 3e-4\n",
        "PATCH_SIZE = 4\n",
        "NUM_CLASSES = 10\n",
        "IMAGE_SIZE = 32\n",
        "CHANNELS = 3\n",
        "EMBED_DIM = 256\n",
        "NUM_HEADS = 16 # applied change\n",
        "DEPTH = 6\n",
        "MLP_DIM = 512\n",
        "DROP_RATE = 0.1"
      ]
    },
    {
      "cell_type": "markdown",
      "id": "06d193bd",
      "metadata": {
        "id": "06d193bd"
      },
      "source": [
        "##### Define Image Transformations"
      ]
    },
    {
      "cell_type": "code",
      "execution_count": 197,
      "id": "c8b82cdb",
      "metadata": {
        "id": "c8b82cdb"
      },
      "outputs": [],
      "source": [
        "transform = transforms.Compose([\n",
        "    transforms.ToTensor(),\n",
        "    transforms.Normalize((0.5), (0.5))\n",
        "    # helps the model to converge faster and\n",
        "    # also it helps to make numerical computations stable\n",
        "])"
      ]
    },
    {
      "cell_type": "markdown",
      "id": "886fe4b9",
      "metadata": {
        "id": "886fe4b9"
      },
      "source": [
        "##### Getting a dataset"
      ]
    },
    {
      "cell_type": "code",
      "execution_count": 198,
      "id": "91d8523c",
      "metadata": {
        "id": "91d8523c"
      },
      "outputs": [],
      "source": [
        "train_dataset = datasets.CIFAR10(root=\"data\", train=True, download=True, transform=transform)\n",
        "test_dataset = datasets.CIFAR10(root=\"data\", train=False, download=True, transform=transform)"
      ]
    },
    {
      "cell_type": "markdown",
      "id": "81473b98",
      "metadata": {
        "id": "81473b98"
      },
      "source": [
        "##### Converting our datasets into dataloaders\n",
        "- Right now, our data is in the form of PyTorch Datasets.\n",
        "- DataLoader turns our data into batches or (mini-batches)\n",
        "    - It is more computationally efficient, as in, our computing hardware may not be able to look (store in memory) at 50000 images in one hit. So we break it into 128 images at a time. (batch size of 128).\n",
        "    - It gives our NN more chances to update its gradients per epoch."
      ]
    },
    {
      "cell_type": "code",
      "execution_count": 199,
      "id": "c37ad047",
      "metadata": {
        "id": "c37ad047"
      },
      "outputs": [],
      "source": [
        "train_loader = DataLoader(dataset=train_dataset, batch_size=BATCH_SIZE, shuffle=True)\n",
        "test_loader = DataLoader(dataset=test_dataset, batch_size=BATCH_SIZE, shuffle=False) # best practice not to shuffle"
      ]
    },
    {
      "cell_type": "code",
      "execution_count": 200,
      "id": "07534714",
      "metadata": {
        "colab": {
          "base_uri": "https://localhost:8080/"
        },
        "id": "07534714",
        "outputId": "1604fe44-e6ae-4c07-fced-703429f58d76"
      },
      "outputs": [
        {
          "name": "stdout",
          "output_type": "stream",
          "text": [
            "DataLoader: (<torch.utils.data.dataloader.DataLoader object at 0x7b349874e310>, <torch.utils.data.dataloader.DataLoader object at 0x7b3498697a50>)\n",
            "Length of train_loader: 391 batches of 128....\n",
            "Length of test_loader: 79 batches of 128...\n"
          ]
        }
      ],
      "source": [
        "print(f\"DataLoader: {train_loader, test_loader}\")\n",
        "print(f\"Length of train_loader: {len(train_loader)} batches of {BATCH_SIZE}....\")\n",
        "print(f\"Length of test_loader: {len(test_loader)} batches of {BATCH_SIZE}...\")"
      ]
    },
    {
      "cell_type": "markdown",
      "id": "8a72a2a8",
      "metadata": {
        "id": "8a72a2a8"
      },
      "source": [
        "##### Building Vision Transformer Model from Scratch"
      ]
    },
    {
      "cell_type": "code",
      "execution_count": 201,
      "id": "19914694",
      "metadata": {
        "id": "19914694"
      },
      "outputs": [],
      "source": [
        "class PatchEmbedding(nn.Module): # we need to split our images into patches\n",
        "    def __init__(self, imageSize, patchSize, inChannels, embedDim):\n",
        "        super().__init__()\n",
        "        self.patchSize = patchSize\n",
        "        self.projection = nn.Conv2d(in_channels=inChannels, out_channels=embedDim, kernel_size=patchSize, stride=patchSize)\n",
        "        numPatches = (imageSize // patchSize) ** 2 # integer division\n",
        "        self.clsToken = nn.Parameter(torch.randn(1, 1, embedDim)) # initialize weights randomly\n",
        "        self.posEmbedding = nn.Parameter(torch.randn(1, 1+numPatches, embedDim)) # represents positional information\n",
        "\n",
        "    def forward(self, x : torch.Tensor):\n",
        "        B = x.size(0) # to receive the size for X at index '0'\n",
        "        x = self.projection(x) # (B, E, H/P, w/P)\n",
        "        x = x.flatten(2).transpose(1, 2) # (B, N, E) to make sure shapes align\n",
        "        clsToken = self.clsToken.expand(B, -1, -1)\n",
        "        x = torch.cat((clsToken, x), dim=1)\n",
        "        x = x + self.posEmbedding\n",
        "        return x\n"
      ]
    },
    {
      "cell_type": "code",
      "execution_count": 202,
      "id": "edba8d22",
      "metadata": {
        "id": "edba8d22"
      },
      "outputs": [],
      "source": [
        "# emb = PatchEmbedding(imageSize=IMAGE_SIZE, patchSize=PATCH_SIZE, inChannels=3, embedDim=EMBED_DIM)"
      ]
    },
    {
      "cell_type": "code",
      "execution_count": 203,
      "id": "116175c2",
      "metadata": {
        "id": "116175c2"
      },
      "outputs": [],
      "source": [
        "# x = torch.randn(2, 3, IMAGE_SIZE, IMAGE_SIZE) # batch size of 2\n",
        "# x.shape"
      ]
    },
    {
      "cell_type": "code",
      "execution_count": 204,
      "id": "4efa93c2",
      "metadata": {
        "id": "4efa93c2"
      },
      "outputs": [],
      "source": [
        "class MLP(nn.Module):\n",
        "    def __init__(self, in_features, hidden_features, dropRate):\n",
        "        super().__init__()\n",
        "        self.fc1 = nn.Linear(in_features=in_features, out_features=hidden_features)\n",
        "        self.fc2 = nn.Linear(in_features=hidden_features, out_features=in_features)\n",
        "        self.dropout = nn.Dropout(dropRate)\n",
        "\n",
        "    def forward(self, x):\n",
        "        x = self.dropout(F.gelu(self.fc1(x)))\n",
        "        x = self.dropout(self.fc2(x))\n",
        "        return x"
      ]
    },
    {
      "cell_type": "code",
      "execution_count": 205,
      "id": "bf5fa02a",
      "metadata": {
        "id": "bf5fa02a"
      },
      "outputs": [],
      "source": [
        "class TransformerEncoderLayer(nn.Module):\n",
        "    def __init__(self, embedDim, numHeads, mlpDim, dropRate):\n",
        "        super().__init__()\n",
        "        self.norm1 = nn.LayerNorm(embedDim)\n",
        "        self.attention = nn.MultiheadAttention(embed_dim=embedDim, num_heads=numHeads, dropout=dropRate, batch_first=True)\n",
        "        self.norm2 = nn.LayerNorm(embedDim)\n",
        "        self.mlp = MLP(embedDim, mlpDim, dropRate)\n",
        "\n",
        "    def forward(self, x):\n",
        "        x = x + self.attention(self.norm1(x), self.norm1(x), self.norm1(x))[0]\n",
        "        x = x + self.mlp(self.norm2(x))\n",
        "        return x"
      ]
    },
    {
      "cell_type": "code",
      "execution_count": 206,
      "id": "2c73ab68",
      "metadata": {
        "id": "2c73ab68"
      },
      "outputs": [],
      "source": [
        "class VisionTransformer(nn.Module):\n",
        "    def __init__(self, imageSize, patchSize, in_channels, numClasses, embedDim, depth, numHeads, mlpDim, dropRate):\n",
        "        super().__init__()\n",
        "        self.patchEmbed = PatchEmbedding(imageSize=imageSize, patchSize=patchSize, inChannels=in_channels, embedDim=embedDim)\n",
        "        self.encoder = nn.Sequential(*[\n",
        "            TransformerEncoderLayer(embedDim, numHeads, mlpDim, dropRate)\n",
        "            for _ in range(depth)\n",
        "        ])\n",
        "        self.norm = nn.LayerNorm(embedDim)\n",
        "        self.head = nn.Linear(embedDim, numClasses)\n",
        "\n",
        "    def forward(self, x):\n",
        "        x = self.patchEmbed(x)\n",
        "        x = self.encoder(x)\n",
        "        x = self.norm(x)\n",
        "        clsToken = x[:, 0] # doing indexing\n",
        "        return self.head(clsToken) # output 10 logits"
      ]
    },
    {
      "cell_type": "markdown",
      "id": "11e62101",
      "metadata": {
        "id": "11e62101"
      },
      "source": [
        "##### Instantiate Model"
      ]
    },
    {
      "cell_type": "code",
      "execution_count": 207,
      "id": "509b23f2",
      "metadata": {
        "id": "509b23f2"
      },
      "outputs": [],
      "source": [
        "model = VisionTransformer(\n",
        "    IMAGE_SIZE, PATCH_SIZE, CHANNELS, NUM_CLASSES, EMBED_DIM, DEPTH, NUM_HEADS, MLP_DIM, DROP_RATE\n",
        ").to(device)"
      ]
    },
    {
      "cell_type": "code",
      "execution_count": 208,
      "id": "552e725c",
      "metadata": {
        "colab": {
          "base_uri": "https://localhost:8080/"
        },
        "id": "552e725c",
        "outputId": "22121baa-cbe7-4c08-cae0-3d2ec6f875e8"
      },
      "outputs": [
        {
          "data": {
            "text/plain": [
              "VisionTransformer(\n",
              "  (patchEmbed): PatchEmbedding(\n",
              "    (projection): Conv2d(3, 256, kernel_size=(4, 4), stride=(4, 4))\n",
              "  )\n",
              "  (encoder): Sequential(\n",
              "    (0): TransformerEncoderLayer(\n",
              "      (norm1): LayerNorm((256,), eps=1e-05, elementwise_affine=True)\n",
              "      (attention): MultiheadAttention(\n",
              "        (out_proj): NonDynamicallyQuantizableLinear(in_features=256, out_features=256, bias=True)\n",
              "      )\n",
              "      (norm2): LayerNorm((256,), eps=1e-05, elementwise_affine=True)\n",
              "      (mlp): MLP(\n",
              "        (fc1): Linear(in_features=256, out_features=512, bias=True)\n",
              "        (fc2): Linear(in_features=512, out_features=256, bias=True)\n",
              "        (dropout): Dropout(p=0.1, inplace=False)\n",
              "      )\n",
              "    )\n",
              "    (1): TransformerEncoderLayer(\n",
              "      (norm1): LayerNorm((256,), eps=1e-05, elementwise_affine=True)\n",
              "      (attention): MultiheadAttention(\n",
              "        (out_proj): NonDynamicallyQuantizableLinear(in_features=256, out_features=256, bias=True)\n",
              "      )\n",
              "      (norm2): LayerNorm((256,), eps=1e-05, elementwise_affine=True)\n",
              "      (mlp): MLP(\n",
              "        (fc1): Linear(in_features=256, out_features=512, bias=True)\n",
              "        (fc2): Linear(in_features=512, out_features=256, bias=True)\n",
              "        (dropout): Dropout(p=0.1, inplace=False)\n",
              "      )\n",
              "    )\n",
              "    (2): TransformerEncoderLayer(\n",
              "      (norm1): LayerNorm((256,), eps=1e-05, elementwise_affine=True)\n",
              "      (attention): MultiheadAttention(\n",
              "        (out_proj): NonDynamicallyQuantizableLinear(in_features=256, out_features=256, bias=True)\n",
              "      )\n",
              "      (norm2): LayerNorm((256,), eps=1e-05, elementwise_affine=True)\n",
              "      (mlp): MLP(\n",
              "        (fc1): Linear(in_features=256, out_features=512, bias=True)\n",
              "        (fc2): Linear(in_features=512, out_features=256, bias=True)\n",
              "        (dropout): Dropout(p=0.1, inplace=False)\n",
              "      )\n",
              "    )\n",
              "    (3): TransformerEncoderLayer(\n",
              "      (norm1): LayerNorm((256,), eps=1e-05, elementwise_affine=True)\n",
              "      (attention): MultiheadAttention(\n",
              "        (out_proj): NonDynamicallyQuantizableLinear(in_features=256, out_features=256, bias=True)\n",
              "      )\n",
              "      (norm2): LayerNorm((256,), eps=1e-05, elementwise_affine=True)\n",
              "      (mlp): MLP(\n",
              "        (fc1): Linear(in_features=256, out_features=512, bias=True)\n",
              "        (fc2): Linear(in_features=512, out_features=256, bias=True)\n",
              "        (dropout): Dropout(p=0.1, inplace=False)\n",
              "      )\n",
              "    )\n",
              "    (4): TransformerEncoderLayer(\n",
              "      (norm1): LayerNorm((256,), eps=1e-05, elementwise_affine=True)\n",
              "      (attention): MultiheadAttention(\n",
              "        (out_proj): NonDynamicallyQuantizableLinear(in_features=256, out_features=256, bias=True)\n",
              "      )\n",
              "      (norm2): LayerNorm((256,), eps=1e-05, elementwise_affine=True)\n",
              "      (mlp): MLP(\n",
              "        (fc1): Linear(in_features=256, out_features=512, bias=True)\n",
              "        (fc2): Linear(in_features=512, out_features=256, bias=True)\n",
              "        (dropout): Dropout(p=0.1, inplace=False)\n",
              "      )\n",
              "    )\n",
              "    (5): TransformerEncoderLayer(\n",
              "      (norm1): LayerNorm((256,), eps=1e-05, elementwise_affine=True)\n",
              "      (attention): MultiheadAttention(\n",
              "        (out_proj): NonDynamicallyQuantizableLinear(in_features=256, out_features=256, bias=True)\n",
              "      )\n",
              "      (norm2): LayerNorm((256,), eps=1e-05, elementwise_affine=True)\n",
              "      (mlp): MLP(\n",
              "        (fc1): Linear(in_features=256, out_features=512, bias=True)\n",
              "        (fc2): Linear(in_features=512, out_features=256, bias=True)\n",
              "        (dropout): Dropout(p=0.1, inplace=False)\n",
              "      )\n",
              "    )\n",
              "  )\n",
              "  (norm): LayerNorm((256,), eps=1e-05, elementwise_affine=True)\n",
              "  (head): Linear(in_features=256, out_features=10, bias=True)\n",
              ")"
            ]
          },
          "execution_count": 208,
          "metadata": {},
          "output_type": "execute_result"
        }
      ],
      "source": [
        "model"
      ]
    },
    {
      "cell_type": "markdown",
      "id": "178eaff4",
      "metadata": {
        "id": "178eaff4"
      },
      "source": [
        "##### Defining a Loss Function and an optimizer"
      ]
    },
    {
      "cell_type": "code",
      "execution_count": 209,
      "id": "ef5f3b43",
      "metadata": {
        "id": "ef5f3b43"
      },
      "outputs": [],
      "source": [
        "criterion = nn.CrossEntropyLoss() # measure how wrong our model is\n",
        "optimizer = optim.Adam(params=model.parameters(), lr=LEARNING_RATE)"
      ]
    },
    {
      "cell_type": "markdown",
      "id": "a8c04d45",
      "metadata": {
        "id": "a8c04d45"
      },
      "source": [
        "##### Defining a Training Loop Function"
      ]
    },
    {
      "cell_type": "code",
      "execution_count": 210,
      "id": "477461bc",
      "metadata": {
        "id": "477461bc"
      },
      "outputs": [],
      "source": [
        "def train(model, loader, optimizer, criterion):\n",
        "    model.train()\n",
        "\n",
        "    totalLoss, correct = 0, 0\n",
        "\n",
        "    for x, y in loader:\n",
        "        x, y = x.to(device), y.to(device)\n",
        "        optimizer.zero_grad()\n",
        "        # forward pass (model outputs raw logits)\n",
        "        output = model(x)\n",
        "        # calculate loss (per batch)\n",
        "        loss = criterion(output, y)\n",
        "        # perform backpropagation\n",
        "        loss.backward()\n",
        "        # perform gradient descent\n",
        "        optimizer.step()\n",
        "        totalLoss += loss.item() * x.size(0)\n",
        "        correct += (output.argmax(1) == y).sum().item()\n",
        "\n",
        "    # scale the loss (Normalization step to make the loss general across all batches)\n",
        "    return totalLoss / len(loader.dataset), correct / len(loader.dataset)"
      ]
    },
    {
      "cell_type": "code",
      "execution_count": 211,
      "id": "16582f17",
      "metadata": {
        "id": "16582f17"
      },
      "outputs": [],
      "source": [
        "def evaluate(model, loader):\n",
        "    model.eval() # set the mode of the model into evaluation\n",
        "    correct = 0\n",
        "    with torch.inference_mode():\n",
        "        for x, y, in loader:\n",
        "            x, y = x.to(device), y.to(device)\n",
        "            output = model(x)\n",
        "            correct += (output.argmax(1) == y).sum().item()\n",
        "    return correct / len(loader.dataset)"
      ]
    },
    {
      "cell_type": "markdown",
      "id": "1df4dc78",
      "metadata": {
        "id": "1df4dc78"
      },
      "source": [
        "##### Training"
      ]
    },
    {
      "cell_type": "code",
      "execution_count": 212,
      "id": "fdb29690",
      "metadata": {
        "id": "fdb29690"
      },
      "outputs": [],
      "source": [
        "from tqdm.auto import tqdm"
      ]
    },
    {
      "cell_type": "code",
      "execution_count": 213,
      "id": "9a3c007a",
      "metadata": {
        "colab": {
          "base_uri": "https://localhost:8080/",
          "height": 396,
          "referenced_widgets": [
            "52d5a961c6e041a289b543f88cd53c5f",
            "f1d0ca05a2d74364b40772b01a876900",
            "339d0f82e78845ad96d68d4fe35f621b",
            "c650af11e11e414aa5ffd8d5191ffbaf",
            "773f77e8a7564e60b9d6d1af8ca2d03d",
            "633e01769f0449d6ae67bb81ae000168",
            "0f14dba0ca7d4399ad5c91666251eb61",
            "28796c315ab84137b8bc0a22ad3d0dd5",
            "b12347eeffc74e379ce85b3fcc59ca6d",
            "7efa2a2bd23841abbd36b94d3eb3dfbe",
            "74f4c26794a840be94287d37c195acf4"
          ]
        },
        "id": "9a3c007a",
        "outputId": "2e7388b3-7505-4bf1-878d-f4beacf9228b"
      },
      "outputs": [
        {
          "data": {
            "application/vnd.jupyter.widget-view+json": {
              "model_id": "52d5a961c6e041a289b543f88cd53c5f",
              "version_major": 2,
              "version_minor": 0
            },
            "text/plain": [
              "  0%|          | 0/20 [00:00<?, ?it/s]"
            ]
          },
          "metadata": {},
          "output_type": "display_data"
        },
        {
          "name": "stdout",
          "output_type": "stream",
          "text": [
            "Epoch: 1/20, Train loss: 1.7071, Train accuracy: 0.3838, Test accuracy: 0.4702\n",
            "Epoch: 2/20, Train loss: 1.3563, Train accuracy: 0.5141, Test accuracy: 0.5539\n",
            "Epoch: 3/20, Train loss: 1.2014, Train accuracy: 0.5690, Test accuracy: 0.5769\n",
            "Epoch: 4/20, Train loss: 1.0921, Train accuracy: 0.6101, Test accuracy: 0.5933\n",
            "Epoch: 5/20, Train loss: 0.9988, Train accuracy: 0.6441, Test accuracy: 0.6018\n",
            "Epoch: 6/20, Train loss: 0.9139, Train accuracy: 0.6741, Test accuracy: 0.6179\n",
            "Epoch: 7/20, Train loss: 0.8312, Train accuracy: 0.7046, Test accuracy: 0.6304\n",
            "Epoch: 8/20, Train loss: 0.7512, Train accuracy: 0.7312, Test accuracy: 0.6309\n",
            "Epoch: 9/20, Train loss: 0.6682, Train accuracy: 0.7632, Test accuracy: 0.6205\n",
            "Epoch: 10/20, Train loss: 0.5879, Train accuracy: 0.7909, Test accuracy: 0.6249\n",
            "Epoch: 11/20, Train loss: 0.5199, Train accuracy: 0.8148, Test accuracy: 0.6360\n",
            "Epoch: 12/20, Train loss: 0.4496, Train accuracy: 0.8388, Test accuracy: 0.6361\n",
            "Epoch: 13/20, Train loss: 0.3944, Train accuracy: 0.8582, Test accuracy: 0.6335\n",
            "Epoch: 14/20, Train loss: 0.3315, Train accuracy: 0.8819, Test accuracy: 0.6363\n",
            "Epoch: 15/20, Train loss: 0.2950, Train accuracy: 0.8939, Test accuracy: 0.6334\n",
            "Epoch: 16/20, Train loss: 0.2540, Train accuracy: 0.9089, Test accuracy: 0.6225\n",
            "Epoch: 17/20, Train loss: 0.2320, Train accuracy: 0.9171, Test accuracy: 0.6348\n",
            "Epoch: 18/20, Train loss: 0.2010, Train accuracy: 0.9276, Test accuracy: 0.6315\n",
            "Epoch: 19/20, Train loss: 0.1868, Train accuracy: 0.9332, Test accuracy: 0.6239\n",
            "Epoch: 20/20, Train loss: 0.1756, Train accuracy: 0.9389, Test accuracy: 0.6329\n"
          ]
        }
      ],
      "source": [
        "train_accuracies = []\n",
        "test_accuracies = []\n",
        "\n",
        "for epoch in tqdm(range(EPOCHS)):\n",
        "    trainLoss, trainAccuracy = train(model, train_loader, optimizer, criterion)\n",
        "    testAccuracy = evaluate(model, test_loader)\n",
        "    train_accuracies.append(trainAccuracy)\n",
        "    test_accuracies.append(testAccuracy)\n",
        "    print(f\"Epoch: {epoch+1}/{EPOCHS}, Train loss: {trainLoss:.4f}, Train accuracy: {trainAccuracy:.4f}, Test accuracy: {testAccuracy:.4f}\")"
      ]
    },
    {
      "cell_type": "code",
      "execution_count": 214,
      "id": "8XpsmeREWrdM",
      "metadata": {
        "colab": {
          "base_uri": "https://localhost:8080/"
        },
        "id": "8XpsmeREWrdM",
        "outputId": "44764082-6df1-492f-db36-22c2e1003f3f"
      },
      "outputs": [
        {
          "data": {
            "text/plain": [
              "[0.38384,\n",
              " 0.51406,\n",
              " 0.569,\n",
              " 0.61014,\n",
              " 0.64406,\n",
              " 0.6741,\n",
              " 0.7046,\n",
              " 0.73116,\n",
              " 0.76318,\n",
              " 0.79086,\n",
              " 0.81484,\n",
              " 0.83882,\n",
              " 0.85822,\n",
              " 0.88192,\n",
              " 0.89392,\n",
              " 0.90892,\n",
              " 0.91706,\n",
              " 0.9276,\n",
              " 0.93322,\n",
              " 0.93888]"
            ]
          },
          "execution_count": 214,
          "metadata": {},
          "output_type": "execute_result"
        }
      ],
      "source": [
        "train_accuracies"
      ]
    },
    {
      "cell_type": "code",
      "execution_count": 215,
      "id": "ODlBYAcWYWvj",
      "metadata": {
        "colab": {
          "base_uri": "https://localhost:8080/"
        },
        "id": "ODlBYAcWYWvj",
        "outputId": "b6bed2d7-4aa7-405d-855b-29724c12930a"
      },
      "outputs": [
        {
          "data": {
            "text/plain": [
              "[0.4702,\n",
              " 0.5539,\n",
              " 0.5769,\n",
              " 0.5933,\n",
              " 0.6018,\n",
              " 0.6179,\n",
              " 0.6304,\n",
              " 0.6309,\n",
              " 0.6205,\n",
              " 0.6249,\n",
              " 0.636,\n",
              " 0.6361,\n",
              " 0.6335,\n",
              " 0.6363,\n",
              " 0.6334,\n",
              " 0.6225,\n",
              " 0.6348,\n",
              " 0.6315,\n",
              " 0.6239,\n",
              " 0.6329]"
            ]
          },
          "execution_count": 215,
          "metadata": {},
          "output_type": "execute_result"
        }
      ],
      "source": [
        "test_accuracies"
      ]
    },
    {
      "cell_type": "markdown",
      "id": "fq-q3sT1Yge3",
      "metadata": {
        "id": "fq-q3sT1Yge3"
      },
      "source": [
        "##### Plot accuracy"
      ]
    },
    {
      "cell_type": "code",
      "execution_count": 216,
      "id": "B0rg3KJMYfrl",
      "metadata": {
        "colab": {
          "base_uri": "https://localhost:8080/",
          "height": 472
        },
        "id": "B0rg3KJMYfrl",
        "outputId": "50bf4d88-8f55-42e2-ccdf-e6bce8451de9"
      },
      "outputs": [
        {
          "data": {
            "image/png": "[encoded data removed]",
            "text/plain": [
              "<Figure size 640x480 with 1 Axes>"
            ]
          },
          "metadata": {},
          "output_type": "display_data"
        }
      ],
      "source": [
        "plt.plot(train_accuracies, label=\"Train Accuracy\")\n",
        "plt.plot(test_accuracies, label=\"Test Accuracy\")\n",
        "plt.xlabel(\"Epochs\")\n",
        "plt.ylabel(\"Accuracy\")\n",
        "plt.legend()\n",
        "plt.title(\"Training and Test Accuracy\")\n",
        "plt.show()"
      ]
    },
    {
      "cell_type": "markdown",
      "id": "YGHy5JbvZmza",
      "metadata": {
        "id": "YGHy5JbvZmza"
      },
      "source": [
        "##### Visualize Predictions"
      ]
    },
    {
      "cell_type": "code",
      "execution_count": 217,
      "id": "zKJjuv2dZdS7",
      "metadata": {
        "id": "zKJjuv2dZdS7"
      },
      "outputs": [],
      "source": [
        "def predictAndPlotGrid(model, dataset, classes, gridSize=3):\n",
        "  model.eval()\n",
        "  fix, axes = plt.subplots(gridSize, gridSize, figsize=(9, 9))\n",
        "  for i in range(gridSize):\n",
        "    for j in range(gridSize):\n",
        "      idx = random.randint(0, len(dataset) - 1)\n",
        "      img, true_label = dataset[idx]\n",
        "      input_tensor = img.unsqueeze(dim=0).to(device)\n",
        "      with torch.inference_mode():\n",
        "        output = model(input_tensor)\n",
        "        _, predicted = torch.max(output.data, 1)\n",
        "      img = img / 2 + 0.5 # unnormalize images to be able to plot them with matplotlib\n",
        "      npimg = img.cpu().numpy()\n",
        "      axes[i, j].imshow(np.transpose(npimg, (1, 2, 0)))\n",
        "      truth = classes[true_label] == classes[predicted.item()]\n",
        "      if truth:\n",
        "        color = \"g\"\n",
        "      else:\n",
        "        color = \"r\"\n",
        "      axes[i, j].set_title(f\"Truth: {classes[true_label]}\\n, Predicted: {classes[predicted.item()]}\", fontsize=10, c=color)\n",
        "      axes[i, j].axis(\"off\")\n",
        "  plt.tight_layout()\n",
        "  plt.show()"
      ]
    },
    {
      "cell_type": "code",
      "execution_count": 220,
      "id": "LZvwS9-gb1Rm",
      "metadata": {
        "colab": {
          "base_uri": "https://localhost:8080/",
          "height": 906
        },
        "id": "LZvwS9-gb1Rm",
        "outputId": "3290dd18-3871-4b9f-82ff-9d7f25b8641d"
      },
      "outputs": [
        {
          "data": {
            "image/png": "[encoded data removed]",
            "text/plain": [
              "<Figure size 900x900 with 9 Axes>"
            ]
          },
          "metadata": {},
          "output_type": "display_data"
        }
      ],
      "source": [
        "predictAndPlotGrid(model, test_dataset, classes=train_dataset.classes, gridSize=3)"
      ]
    },
    {
      "cell_type": "code",
      "execution_count": null,
      "id": "LZ7OirricDsH",
      "metadata": {
        "id": "LZ7OirricDsH"
      },
      "outputs": [],
      "source": []
    }
  ],
  "metadata": {
    "accelerator": "GPU",
    "colab": {
      "gpuType": "T4",
      "provenance": []
    },
    "kernelspec": {
      "display_name": "dev",
      "language": "python",
      "name": "python3"
    },
    "language_info": {
      "codemirror_mode": {
        "name": "ipython",
        "version": 3
      },
      "file_extension": ".py",
      "mimetype": "text/x-python",
      "name": "python",
      "nbconvert_exporter": "python",
      "pygments_lexer": "ipython3",
      "version": "3.12.11"
    },
    "widgets": {
      "application/vnd.jupyter.widget-state+json": {
        "0f14dba0ca7d4399ad5c91666251eb61": {
          "model_module": "@jupyter-widgets/controls",
          "model_module_version": "1.5.0",
          "model_name": "DescriptionStyleModel",
          "state": {
            "_model_module": "@jupyter-widgets/controls",
            "_model_module_version": "1.5.0",
            "_model_name": "DescriptionStyleModel",
            "_view_count": null,
            "_view_module": "@jupyter-widgets/base",
            "_view_module_version": "1.2.0",
            "_view_name": "StyleView",
            "description_width": ""
          }
        },
        "28796c315ab84137b8bc0a22ad3d0dd5": {
          "model_module": "@jupyter-widgets/base",
          "model_module_version": "1.2.0",
          "model_name": "LayoutModel",
          "state": {
            "_model_module": "@jupyter-widgets/base",
            "_model_module_version": "1.2.0",
            "_model_name": "LayoutModel",
            "_view_count": null,
            "_view_module": "@jupyter-widgets/base",
            "_view_module_version": "1.2.0",
            "_view_name": "LayoutView",
            "align_content": null,
            "align_items": null,
            "align_self": null,
            "border": null,
            "bottom": null,
            "display": null,
            "flex": null,
            "flex_flow": null,
            "grid_area": null,
            "grid_auto_columns": null,
            "grid_auto_flow": null,
            "grid_auto_rows": null,
            "grid_column": null,
            "grid_gap": null,
            "grid_row": null,
            "grid_template_areas": null,
            "grid_template_columns": null,
            "grid_template_rows": null,
            "height": null,
            "justify_content": null,
            "justify_items": null,
            "left": null,
            "margin": null,
            "max_height": null,
            "max_width": null,
            "min_height": null,
            "min_width": null,
            "object_fit": null,
            "object_position": null,
            "order": null,
            "overflow": null,
            "overflow_x": null,
            "overflow_y": null,
            "padding": null,
            "right": null,
            "top": null,
            "visibility": null,
            "width": null
          }
        },
        "339d0f82e78845ad96d68d4fe35f621b": {
          "model_module": "@jupyter-widgets/controls",
          "model_module_version": "1.5.0",
          "model_name": "FloatProgressModel",
          "state": {
            "_dom_classes": [],
            "_model_module": "@jupyter-widgets/controls",
            "_model_module_version": "1.5.0",
            "_model_name": "FloatProgressModel",
            "_view_count": null,
            "_view_module": "@jupyter-widgets/controls",
            "_view_module_version": "1.5.0",
            "_view_name": "ProgressView",
            "bar_style": "success",
            "description": "",
            "description_tooltip": null,
            "layout": "IPY_MODEL_28796c315ab84137b8bc0a22ad3d0dd5",
            "max": 20,
            "min": 0,
            "orientation": "horizontal",
            "style": "IPY_MODEL_b12347eeffc74e379ce85b3fcc59ca6d",
            "value": 20
          }
        },
        "52d5a961c6e041a289b543f88cd53c5f": {
          "model_module": "@jupyter-widgets/controls",
          "model_module_version": "1.5.0",
          "model_name": "HBoxModel",
          "state": {
            "_dom_classes": [],
            "_model_module": "@jupyter-widgets/controls",
            "_model_module_version": "1.5.0",
            "_model_name": "HBoxModel",
            "_view_count": null,
            "_view_module": "@jupyter-widgets/controls",
            "_view_module_version": "1.5.0",
            "_view_name": "HBoxView",
            "box_style": "",
            "children": [
              "IPY_MODEL_f1d0ca05a2d74364b40772b01a876900",
              "IPY_MODEL_339d0f82e78845ad96d68d4fe35f621b",
              "IPY_MODEL_c650af11e11e414aa5ffd8d5191ffbaf"
            ],
            "layout": "IPY_MODEL_773f77e8a7564e60b9d6d1af8ca2d03d"
          }
        },
        "633e01769f0449d6ae67bb81ae000168": {
          "model_module": "@jupyter-widgets/base",
          "model_module_version": "1.2.0",
          "model_name": "LayoutModel",
          "state": {
            "_model_module": "@jupyter-widgets/base",
            "_model_module_version": "1.2.0",
            "_model_name": "LayoutModel",
            "_view_count": null,
            "_view_module": "@jupyter-widgets/base",
            "_view_module_version": "1.2.0",
            "_view_name": "LayoutView",
            "align_content": null,
            "align_items": null,
            "align_self": null,
            "border": null,
            "bottom": null,
            "display": null,
            "flex": null,
            "flex_flow": null,
            "grid_area": null,
            "grid_auto_columns": null,
            "grid_auto_flow": null,
            "grid_auto_rows": null,
            "grid_column": null,
            "grid_gap": null,
            "grid_row": null,
            "grid_template_areas": null,
            "grid_template_columns": null,
            "grid_template_rows": null,
            "height": null,
            "justify_content": null,
            "justify_items": null,
            "left": null,
            "margin": null,
            "max_height": null,
            "max_width": null,
            "min_height": null,
            "min_width": null,
            "object_fit": null,
            "object_position": null,
            "order": null,
            "overflow": null,
            "overflow_x": null,
            "overflow_y": null,
            "padding": null,
            "right": null,
            "top": null,
            "visibility": null,
            "width": null
          }
        },
        "74f4c26794a840be94287d37c195acf4": {
          "model_module": "@jupyter-widgets/controls",
          "model_module_version": "1.5.0",
          "model_name": "DescriptionStyleModel",
          "state": {
            "_model_module": "@jupyter-widgets/controls",
            "_model_module_version": "1.5.0",
            "_model_name": "DescriptionStyleModel",
            "_view_count": null,
            "_view_module": "@jupyter-widgets/base",
            "_view_module_version": "1.2.0",
            "_view_name": "StyleView",
            "description_width": ""
          }
        },
        "773f77e8a7564e60b9d6d1af8ca2d03d": {
          "model_module": "@jupyter-widgets/base",
          "model_module_version": "1.2.0",
          "model_name": "LayoutModel",
          "state": {
            "_model_module": "@jupyter-widgets/base",
            "_model_module_version": "1.2.0",
            "_model_name": "LayoutModel",
            "_view_count": null,
            "_view_module": "@jupyter-widgets/base",
            "_view_module_version": "1.2.0",
            "_view_name": "LayoutView",
            "align_content": null,
            "align_items": null,
            "align_self": null,
            "border": null,
            "bottom": null,
            "display": null,
            "flex": null,
            "flex_flow": null,
            "grid_area": null,
            "grid_auto_columns": null,
            "grid_auto_flow": null,
            "grid_auto_rows": null,
            "grid_column": null,
            "grid_gap": null,
            "grid_row": null,
            "grid_template_areas": null,
            "grid_template_columns": null,
            "grid_template_rows": null,
            "height": null,
            "justify_content": null,
            "justify_items": null,
            "left": null,
            "margin": null,
            "max_height": null,
            "max_width": null,
            "min_height": null,
            "min_width": null,
            "object_fit": null,
            "object_position": null,
            "order": null,
            "overflow": null,
            "overflow_x": null,
            "overflow_y": null,
            "padding": null,
            "right": null,
            "top": null,
            "visibility": null,
            "width": null
          }
        },
        "7efa2a2bd23841abbd36b94d3eb3dfbe": {
          "model_module": "@jupyter-widgets/base",
          "model_module_version": "1.2.0",
          "model_name": "LayoutModel",
          "state": {
            "_model_module": "@jupyter-widgets/base",
            "_model_module_version": "1.2.0",
            "_model_name": "LayoutModel",
            "_view_count": null,
            "_view_module": "@jupyter-widgets/base",
            "_view_module_version": "1.2.0",
            "_view_name": "LayoutView",
            "align_content": null,
            "align_items": null,
            "align_self": null,
            "border": null,
            "bottom": null,
            "display": null,
            "flex": null,
            "flex_flow": null,
            "grid_area": null,
            "grid_auto_columns": null,
            "grid_auto_flow": null,
            "grid_auto_rows": null,
            "grid_column": null,
            "grid_gap": null,
            "grid_row": null,
            "grid_template_areas": null,
            "grid_template_columns": null,
            "grid_template_rows": null,
            "height": null,
            "justify_content": null,
            "justify_items": null,
            "left": null,
            "margin": null,
            "max_height": null,
            "max_width": null,
            "min_height": null,
            "min_width": null,
            "object_fit": null,
            "object_position": null,
            "order": null,
            "overflow": null,
            "overflow_x": null,
            "overflow_y": null,
            "padding": null,
            "right": null,
            "top": null,
            "visibility": null,
            "width": null
          }
        },
        "b12347eeffc74e379ce85b3fcc59ca6d": {
          "model_module": "@jupyter-widgets/controls",
          "model_module_version": "1.5.0",
          "model_name": "ProgressStyleModel",
          "state": {
            "_model_module": "@jupyter-widgets/controls",
            "_model_module_version": "1.5.0",
            "_model_name": "ProgressStyleModel",
            "_view_count": null,
            "_view_module": "@jupyter-widgets/base",
            "_view_module_version": "1.2.0",
            "_view_name": "StyleView",
            "bar_color": null,
            "description_width": ""
          }
        },
        "c650af11e11e414aa5ffd8d5191ffbaf": {
          "model_module": "@jupyter-widgets/controls",
          "model_module_version": "1.5.0",
          "model_name": "HTMLModel",
          "state": {
            "_dom_classes": [],
            "_model_module": "@jupyter-widgets/controls",
            "_model_module_version": "1.5.0",
            "_model_name": "HTMLModel",
            "_view_count": null,
            "_view_module": "@jupyter-widgets/controls",
            "_view_module_version": "1.5.0",
            "_view_name": "HTMLView",
            "description": "",
            "description_tooltip": null,
            "layout": "IPY_MODEL_7efa2a2bd23841abbd36b94d3eb3dfbe",
            "placeholder": "​",
            "style": "IPY_MODEL_74f4c26794a840be94287d37c195acf4",
            "value": " 20/20 [17:29&lt;00:00, 52.23s/it]"
          }
        },
        "f1d0ca05a2d74364b40772b01a876900": {
          "model_module": "@jupyter-widgets/controls",
          "model_module_version": "1.5.0",
          "model_name": "HTMLModel",
          "state": {
            "_dom_classes": [],
            "_model_module": "@jupyter-widgets/controls",
            "_model_module_version": "1.5.0",
            "_model_name": "HTMLModel",
            "_view_count": null,
            "_view_module": "@jupyter-widgets/controls",
            "_view_module_version": "1.5.0",
            "_view_name": "HTMLView",
            "description": "",
            "description_tooltip": null,
            "layout": "IPY_MODEL_633e01769f0449d6ae67bb81ae000168",
            "placeholder": "​",
            "style": "IPY_MODEL_0f14dba0ca7d4399ad5c91666251eb61",
            "value": "100%"
          }
        }
      }
    }
  },
  "nbformat": 4,
  "nbformat_minor": 5
}
